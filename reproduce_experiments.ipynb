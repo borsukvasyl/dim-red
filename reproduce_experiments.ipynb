{
 "cells": [
  {
   "cell_type": "markdown",
   "id": "imposed-gamma",
   "metadata": {},
   "source": [
    "## Imports"
   ]
  },
  {
   "cell_type": "code",
   "execution_count": null,
   "id": "advanced-gospel",
   "metadata": {},
   "outputs": [],
   "source": [
    "import sys\n",
    "sys.path.append(\"/home/roman/study/la/dim-red\")"
   ]
  },
  {
   "cell_type": "code",
   "execution_count": null,
   "id": "amber-establishment",
   "metadata": {},
   "outputs": [],
   "source": [
    "from dimred.models import PCAModel, SVDModel, KMeansModel, AutoEncoderModel\n",
    "from dimred.metrics import get_metrics"
   ]
  },
  {
   "cell_type": "code",
   "execution_count": null,
   "id": "accurate-begin",
   "metadata": {},
   "outputs": [],
   "source": [
    "import glob\n",
    "import os\n",
    "import pandas as pd\n",
    "from pathlib import Path\n",
    "from shutil import copyfile\n",
    "import time\n",
    "from tqdm import tqdm\n",
    "import cv2 \n",
    "from math import ceil\n",
    "import matplotlib.pyplot as plt\n",
    "import numpy as np"
   ]
  },
  {
   "cell_type": "markdown",
   "id": "cultural-subscriber",
   "metadata": {},
   "source": [
    "## Image utils"
   ]
  },
  {
   "cell_type": "code",
   "execution_count": null,
   "id": "weird-declaration",
   "metadata": {},
   "outputs": [],
   "source": [
    "def get_ax(ax, col, row):\n",
    "    if type(ax) is np.ndarray:\n",
    "        curr_row_ax = ax[col]\n",
    "        if type(curr_row_ax) is np.ndarray:\n",
    "            return curr_row_ax[row]\n",
    "        return curr_row_ax\n",
    "    return ax\n",
    "\n",
    "def plot_images(images, labels=None, cols=5, col_width=4, row_width=4, show_axis=False):\n",
    "    rows = ceil(len(images) / cols)\n",
    "    fig, ax = plt.subplots(rows, cols, figsize=(20, rows * row_width))\n",
    "\n",
    "    curr_row = 0\n",
    "    curr_col = 0\n",
    "    for i in range(len(images)):\n",
    "        row = i % cols\n",
    "        col = i // cols\n",
    "        if rows == 1 and cols > 1:\n",
    "            col = row\n",
    "        curr_ax = get_ax(ax, col, row)\n",
    "        curr_ax.imshow(images[i])\n",
    "        if labels is not None:\n",
    "            curr_ax.set_title(labels[i]) \n",
    "        if not show_axis:\n",
    "            curr_ax.get_xaxis().set_visible(False)\n",
    "            curr_ax.get_yaxis().set_visible(False)\n",
    "        curr_col += 1\n",
    "        if curr_col == cols:\n",
    "            curr_col = 0\n",
    "            curr_row += 1\n",
    "    return fig"
   ]
  },
  {
   "cell_type": "code",
   "execution_count": null,
   "id": "developmental-optimization",
   "metadata": {},
   "outputs": [],
   "source": [
    "def get_images_subset(save_dir, glob_path, start, end):\n",
    "    if not os.path.exists(save_dir):\n",
    "        os.makedirs(save_dir)\n",
    "        image_paths = glob.glob(glob_path)[start:end]\n",
    "        for image_path in image_paths:\n",
    "            file_name = image_path.rsplit(\"/\", 1)[1]\n",
    "            copyfile(image_path, os.path.join(save_dir, file_name))"
   ]
  },
  {
   "cell_type": "code",
   "execution_count": null,
   "id": "continuous-institute",
   "metadata": {},
   "outputs": [],
   "source": [
    "def read_img(path: str): \n",
    "    img = cv2.imread(path)\n",
    "    img = cv2.cvtColor(img, cv2.COLOR_BGR2RGB)\n",
    "    return img"
   ]
  },
  {
   "cell_type": "code",
   "execution_count": null,
   "id": "developed-shock",
   "metadata": {},
   "outputs": [],
   "source": [
    "def get_image_paths(images_directory, max_num=None):\n",
    "    for index, image_path in enumerate(glob.glob(os.path.join(images_directory, \"*.jpg\"))):\n",
    "        if index == max_num:\n",
    "            return\n",
    "        yield image_path"
   ]
  },
  {
   "cell_type": "markdown",
   "id": "amazing-dress",
   "metadata": {},
   "source": [
    "## Prepare data"
   ]
  },
  {
   "cell_type": "markdown",
   "id": "broad-pocket",
   "metadata": {},
   "source": [
    "Dataset to download: https://www.kaggle.com/adityajn105/flickr8k"
   ]
  },
  {
   "cell_type": "code",
   "execution_count": null,
   "id": "civil-quantum",
   "metadata": {},
   "outputs": [],
   "source": [
    "original_image_path_directory = \"original_images\"\n",
    "training_image_path_directory = \"training_images\"\n",
    "glob_pattern = \"/datasets/flickr8k/Images/*.jpg\"\n",
    "\n",
    "get_images_subset(original_image_path_directory, glob_pattern, 0, 400)\n",
    "get_images_subset(training_image_path_directory, glob_pattern, 400, 1000)\n",
    "\n",
    "num_of_images = len(glob.glob(os.path.join(original_image_path_directory, \"*.jpg\")))"
   ]
  },
  {
   "cell_type": "markdown",
   "id": "introductory-maximum",
   "metadata": {},
   "source": [
    "## Experiment class definition"
   ]
  },
  {
   "cell_type": "code",
   "execution_count": null,
   "id": "recovered-tenant",
   "metadata": {},
   "outputs": [],
   "source": [
    "class Experiment:\n",
    "    def __init__(self, model, experiment_name, experiment_dir=\"experiments\"):\n",
    "        self.model = model\n",
    "        self.experiment_name = experiment_name\n",
    "        self.experiment_dir = experiment_dir\n",
    "        \n",
    "        self._rows = list()\n",
    "        os.makedirs(os.path.join(experiment_dir, experiment_name), exist_ok=True)\n",
    "        \n",
    "    def process_image_from_path(self, image_path):\n",
    "        image = read_img(image_path)\n",
    "        save_image_path = os.path.join(self.experiment_dir, self.experiment_name, os.path.basename(image_path))\n",
    "        metrics = get_metrics(compression_model=self.model, original_image=image)\n",
    "        self._rows.append(metrics)\n",
    "        \n",
    "        output_image = self.model.decompress(self.model.compress(image))\n",
    "        cv2.imwrite(save_image_path, cv2.cvtColor(output_image, cv2.COLOR_RGB2BGR))\n",
    "        \n",
    "    def save_report(self):\n",
    "        report = pd.DataFrame(self._rows)\n",
    "        report[\"experiment_name\"] = self.experiment_name\n",
    "        report[\"model_name\"] = type(self.model).__name__\n",
    "        report.to_csv(os.path.join(self.experiment_dir, self.experiment_name, \"report.csv\"), index=False)\n",
    "    \n",
    "    def get_processed_images(self):\n",
    "        return [read_img(image_path) for image_path in glob.glob(os.path.join(self.experiment_dir, self.experiment_name, \"*.jpg\"))]\n",
    "    \n",
    "    def get_report(self):\n",
    "        return pd.read_csv(os.path.join(self.experiment_dir, self.experiment_name, \"report.csv\"))"
   ]
  },
  {
   "cell_type": "markdown",
   "id": "chief-intent",
   "metadata": {},
   "source": [
    "## Compare compression methods"
   ]
  },
  {
   "cell_type": "code",
   "execution_count": null,
   "id": "social-spending",
   "metadata": {},
   "outputs": [],
   "source": [
    "experiments = [\n",
    "    Experiment(model=KMeansModel.from_config(\"kmeans/config/kmeans_w4_2000.yaml\"), experiment_name=\"kmeans_w4_2000\"),\n",
    "    Experiment(model=PCAModel(num_components=0.1), experiment_name=\"pca_0.1_components\"),\n",
    "    Experiment(model=SVDModel(num_components=0.1), experiment_name=\"svd_0.1_components\"),\n",
    "    Experiment(model=AutoEncoderModel.from_config(\"autoencoder/config/autoencoder.yaml\"), experiment_name=\"autoencoder\"),\n",
    "]"
   ]
  },
  {
   "cell_type": "code",
   "execution_count": null,
   "id": "secure-intranet",
   "metadata": {
    "scrolled": true
   },
   "outputs": [],
   "source": [
    "for experiment in experiments:\n",
    "    pbar = tqdm(total=num_of_images, desc=f\"Experimet: {experiment.experiment_name}\")\n",
    "    for image_path in get_image_paths(original_image_path_directory):\n",
    "        experiment.process_image_from_path(image_path)\n",
    "        pbar.update()\n",
    "    experiment.save_report()"
   ]
  }
 ],
 "metadata": {
  "kernelspec": {
   "display_name": "Python 3",
   "language": "python",
   "name": "python3"
  },
  "language_info": {
   "codemirror_mode": {
    "name": "ipython",
    "version": 3
   },
   "file_extension": ".py",
   "mimetype": "text/x-python",
   "name": "python",
   "nbconvert_exporter": "python",
   "pygments_lexer": "ipython3",
   "version": "3.6.12"
  }
 },
 "nbformat": 4,
 "nbformat_minor": 5
}
